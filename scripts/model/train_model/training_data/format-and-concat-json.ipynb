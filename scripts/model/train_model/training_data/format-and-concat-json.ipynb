{
 "cells": [
  {
   "cell_type": "code",
   "execution_count": 11,
   "metadata": {},
   "outputs": [],
   "source": [
    "# import os\n",
    "# import json\n",
    "\n",
    "# ## format JSON objects\n",
    "# def concatenate_content(filename):\n",
    "#     with open(filename, 'r', encoding='utf-8') as f:\n",
    "#         # Split the content by lines, strip each line to remove leading/trailing whitespaces, \n",
    "#         # and then join them back together with a space\n",
    "#         concatenated = ' '.join(line.strip() for line in f)\n",
    "#     return concatenated\n",
    "\n",
    "# def update_file(filename, content):\n",
    "#     with open(filename, 'w', encoding='utf-8') as f:\n",
    "#         f.write(content)\n",
    "\n",
    "# def main():\n",
    "#     for filename in os.listdir():\n",
    "#         if filename.endswith('.json'):\n",
    "#             updated_content = concatenate_content(filename)\n",
    "#             try:\n",
    "#                 # Check if the concatenated content is still a valid JSON\n",
    "#                 json.loads(updated_content)\n",
    "                \n",
    "#                 # If it's valid, update the file\n",
    "#                 update_file(filename, updated_content)\n",
    "#             except json.JSONDecodeError:\n",
    "#                 print(f\"Warning: File '{filename}' became an invalid JSON after concatenation. It was not updated.\")\n",
    "\n",
    "#     print(\"Files have been updated!\")\n",
    "\n",
    "# if __name__ == '__main__':\n",
    "#     main()\n"
   ]
  },
  {
   "cell_type": "code",
   "execution_count": 12,
   "metadata": {},
   "outputs": [],
   "source": [
    "# import os\n",
    "# import json\n",
    "\n",
    "# def pretty_print_json(file_path):\n",
    "#     \"\"\"Reads a JSON file and rewrites it with indentation for readability.\"\"\"\n",
    "#     try:\n",
    "#         with open(file_path, 'r', encoding='utf-8') as file:\n",
    "#             # Load the JSON data\n",
    "#             data = json.load(file)\n",
    "\n",
    "#         with open(file_path, 'w', encoding='utf-8') as file:\n",
    "#             # Write the JSON data with indentation\n",
    "#             json.dump(data, file, indent=4)\n",
    "\n",
    "#         print(f\"Formatted {file_path}\")\n",
    "#     except json.JSONDecodeError as e:\n",
    "#         print(f\"Error processing file {file_path}: {e}\")\n",
    "\n",
    "# def format_json_files_in_directory(directory_path):\n",
    "#     \"\"\"Formats all JSON files in the specified directory.\"\"\"\n",
    "#     for filename in os.listdir(directory_path):\n",
    "#         if filename.endswith('.json'):\n",
    "#             file_path = os.path.join(directory_path, filename)\n",
    "#             pretty_print_json(file_path)\n",
    "\n",
    "#     print(\"All JSON files formatted.\")\n",
    "\n",
    "# if __name__ == \"__main__\":\n",
    "#     # Replace '' with your directory path or leave it as is to use the current directory\n",
    "#     directory_path = 'new-model-copy'  \n",
    "#     format_json_files_in_directory(directory_path)\n"
   ]
  },
  {
   "cell_type": "code",
   "execution_count": 13,
   "metadata": {},
   "outputs": [
    {
     "name": "stdout",
     "output_type": "stream",
     "text": [
      "Concatenated JSONL saved to training-data.jsonl\n"
     ]
    }
   ],
   "source": [
    "import os\n",
    "import json\n",
    "\n",
    "def load_json(file_path):\n",
    "    \"\"\"Load a JSON file.\"\"\"\n",
    "    with open(file_path, 'r', encoding='utf-8') as f:\n",
    "        try:\n",
    "            return json.load(f)\n",
    "        except json.JSONDecodeError as e:\n",
    "            print(f\"Error in file {os.path.basename(file_path)}: {e}\")\n",
    "            return None\n",
    "\n",
    "def concatenate_to_jsonl(directory_path):\n",
    "    # Use the current directory if no directory_path is specified\n",
    "    directory_path = directory_path or os.getcwd()\n",
    "\n",
    "    with open(\"training-data.jsonl\", 'w', encoding='utf-8') as outfile:\n",
    "        # List all files in the directory\n",
    "        for filename in os.listdir(directory_path):\n",
    "            if filename.endswith('.json'):\n",
    "                file_path = os.path.join(directory_path, filename)\n",
    "\n",
    "                data = load_json(file_path)\n",
    "                if data:\n",
    "                    json.dump(data, outfile)\n",
    "                    outfile.write(\"\\n\")  # Newline for JSONL format\n",
    "\n",
    "    print(f\"Concatenated JSONL saved to training-data.jsonl\")\n",
    "\n",
    "if __name__ == \"__main__\":\n",
    "    concatenate_to_jsonl(\"\")"
   ]
  }
 ],
 "metadata": {
  "kernelspec": {
   "display_name": "Python 3",
   "language": "python",
   "name": "python3"
  },
  "language_info": {
   "codemirror_mode": {
    "name": "ipython",
    "version": 3
   },
   "file_extension": ".py",
   "mimetype": "text/x-python",
   "name": "python",
   "nbconvert_exporter": "python",
   "pygments_lexer": "ipython3",
   "version": "3.11.1"
  },
  "orig_nbformat": 4
 },
 "nbformat": 4,
 "nbformat_minor": 2
}
