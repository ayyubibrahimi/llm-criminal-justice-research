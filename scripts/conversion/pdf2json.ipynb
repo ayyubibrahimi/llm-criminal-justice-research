{
 "cells": [
  {
   "cell_type": "code",
   "execution_count": 3,
   "metadata": {},
   "outputs": [],
   "source": [
    "import pdfplumber\n",
    "import os\n",
    "import json\n",
    "\n",
    "def create_json_for_each_pdf(directory):\n",
    "    for filename in os.listdir(directory):\n",
    "        if filename.endswith(\".pdf\"):\n",
    "            file_path = os.path.join(directory, filename)\n",
    "            \n",
    "            with pdfplumber.open(file_path) as pdf:\n",
    "                messages = []\n",
    "                \n",
    "                for i, page in enumerate(pdf.pages):\n",
    "                    page_content = page.extract_text().replace('\\n', ' ')\n",
    "                    half_length = len(page_content) // 2\n",
    "\n",
    "                    for j in range(2):\n",
    "                        start = j * half_length\n",
    "                        end = start + half_length if j < 1 else len(page_content)\n",
    "                        half_content = page_content[start:end]\n",
    "                        messages.append({\"title\": filename, \"page_content\": half_content, \"page_number\": i+1, \"part\": j+1})\n",
    "\n",
    "                document = {\"messages\": messages}\n",
    "\n",
    "                with open(os.path.join(directory, f'{os.path.splitext(filename)[0]}.json'), 'w') as f:\n",
    "                    json.dump(document, f)\n",
    "\n",
    "dir = \"../../data/citycouncil/minutes/\"\n",
    "create_json_for_each_pdf(dir)"
   ]
  }
 ],
 "metadata": {
  "kernelspec": {
   "display_name": "Python 3",
   "language": "python",
   "name": "python3"
  },
  "language_info": {
   "codemirror_mode": {
    "name": "ipython",
    "version": 3
   },
   "file_extension": ".py",
   "mimetype": "text/x-python",
   "name": "python",
   "nbconvert_exporter": "python",
   "pygments_lexer": "ipython3",
   "version": "3.11.1"
  },
  "orig_nbformat": 4
 },
 "nbformat": 4,
 "nbformat_minor": 2
}
