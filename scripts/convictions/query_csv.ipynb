{
 "cells": [
  {
   "cell_type": "code",
   "execution_count": 2,
   "metadata": {},
   "outputs": [],
   "source": [
    "from langchain.agents import create_csv_agent\n",
    "from langchain.llms import OpenAI\n",
    "from langchain.agents.agent_types import AgentType\n",
    "from dotenv import find_dotenv, load_dotenv\n",
    "import pandas as pd\n",
    "\n",
    "load_dotenv(find_dotenv())\n",
    "query_memory = []\n",
    "\n",
    "\n",
    "def runit():\n",
    "    agent = create_csv_agent(\n",
    "        OpenAI(temperature=0),\n",
    "        \"../../data/citycouncil/minutes/parsed_minutes.csv\",\n",
    "        verbose=True,\n",
    "        agent_type=AgentType.ZERO_SHOT_REACT_DESCRIPTION,\n",
    "    )\n",
    "    return agent\n",
    "\n",
    "def process(agent, query):\n",
    "    query = agent.run(query)\n",
    "    return print(query) \n",
    "\n",
    "if __name__ == \"__main__\":\n",
    "    agent = runit()\n",
    "    query = \"tell me how each member voted for CAL. NO. 33,996\"\n",
    "    runs = process(agent, query)"
   ]
  }
 ],
 "metadata": {
  "kernelspec": {
   "display_name": "Python 3",
   "language": "python",
   "name": "python3"
  },
  "language_info": {
   "codemirror_mode": {
    "name": "ipython",
    "version": 3
   },
   "file_extension": ".py",
   "mimetype": "text/x-python",
   "name": "python",
   "nbconvert_exporter": "python",
   "pygments_lexer": "ipython3",
   "version": "3.11.1"
  },
  "orig_nbformat": 4
 },
 "nbformat": 4,
 "nbformat_minor": 2
}
